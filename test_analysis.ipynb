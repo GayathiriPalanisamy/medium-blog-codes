{
 "cells": [
  {
   "cell_type": "code",
   "execution_count": 1,
   "metadata": {},
   "outputs": [],
   "source": [
    "%matplotlib inline\n",
    "from nltk.corpus import stopwords\n",
    "from vaderSentiment.vaderSentiment import SentimentIntensityAnalyzer\n",
    "# import matplotlib as mpl\n",
    "# import matplotlib.pyplot as plt\n",
    "import nltk\n",
    "# import numpy as np\n",
    "# import pandas as pd\n",
    "# import random\n",
    "import re\n",
    "# import scipy.signal\n",
    "# import textblob\n",
    "#import yellowbrick"
   ]
  },
  {
   "cell_type": "code",
   "execution_count": 2,
   "metadata": {},
   "outputs": [],
   "source": [
    "font_name = {'fontname': 'Source Sans Pro'}\n",
    "mono_name = {'fontname': 'Source Serif Pro'}\n",
    "font_size = {'fontsize': 13}\n",
    "color_label = {'color': '#333333'}"
   ]
  },
  {
   "cell_type": "code",
   "execution_count": 30,
   "metadata": {},
   "outputs": [],
   "source": [
    "analyser = SentimentIntensityAnalyzer()\n",
    "\n",
    "en_stopwords = stopwords.words('english')\n",
    "\n",
    "lines = \"\"\n",
    "with open('text.txt') as f_in:\n",
    "    lines = ''.join(f_in.readlines())\n",
    "    \n",
    "between_bn = re.compile(r'(\\n+[\\d]+[ ]*\\n+)')\n",
    "multiple_bn = re.compile(r'\\n+')\n",
    "text = re.sub(between_bn, '', lines)\n",
    "raw = re.sub(multiple_bn, '', text)\n",
    "sentences = [s for s in nltk.sent_tokenize(raw)]\n",
    "tokens = [t.lower() for t in nltk.word_tokenize(raw) if t.isalpha()]\n",
    "\n",
    "# no stopwords\n",
    "n_tokens = [t for t in tokens if t not in en_stopwords]"
   ]
  },
  {
   "cell_type": "code",
   "execution_count": 28,
   "metadata": {},
   "outputs": [],
   "source": [
    "## Symbols, words, lexical richness"
   ]
  },
  {
   "cell_type": "code",
   "execution_count": 31,
   "metadata": {},
   "outputs": [
    {
     "name": "stdout",
     "output_type": "stream",
     "text": [
      "Len in chars: 224730\n",
      "Len in words: 41116\n",
      "# of distinct words: 5009\n",
      "Lexical richness: 0.1218260531180076\n"
     ]
    }
   ],
   "source": [
    "print('Len in chars:', len(raw))\n",
    "print('Len in words:', len(tokens))\n",
    "\n",
    "distinct_tokens = set(tokens)\n",
    "lexical_richness = len(distinct_tokens) / len(tokens)\n",
    "print('# of distinct words:', len(distinct_tokens))\n",
    "print('Lexical richness:', lexical_richness)"
   ]
  },
  {
   "cell_type": "code",
   "execution_count": null,
   "metadata": {},
   "outputs": [],
   "source": []
  }
 ],
 "metadata": {
  "kernelspec": {
   "display_name": ".venv",
   "language": "python",
   "name": "python3"
  },
  "language_info": {
   "codemirror_mode": {
    "name": "ipython",
    "version": 3
   },
   "file_extension": ".py",
   "mimetype": "text/x-python",
   "name": "python",
   "nbconvert_exporter": "python",
   "pygments_lexer": "ipython3",
   "version": "3.11.2"
  },
  "orig_nbformat": 4
 },
 "nbformat": 4,
 "nbformat_minor": 2
}
